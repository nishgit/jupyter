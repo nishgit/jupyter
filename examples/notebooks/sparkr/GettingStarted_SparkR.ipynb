{
  "metadata":{
    "language_info":{
      "name":"sparkR",
      "mimetype":"text/x-rsrc",
      "codemirror_mode":"text/x-rsrc",
      "pygments_lexer":"r"
    },
    "kernelspec":{
      "name":"sparkrkernel",
      "display_name":"SparkR",
      "language":""
    }
  },
  "nbformat_minor":4,
  "nbformat":4,
  "cells":[
    {
      "cell_type":"markdown",
      "source":"### Step 1: Initialize a Spark Session",
      "metadata":{
      }
    },
    {
      "cell_type":"code",
      "source":"sparkR.session()",
      "metadata":{
        "trusted":true
      },
      "execution_count":14,
      "outputs":[
        {
          "output_type":"display_data",
          "data":{
            "text/plain":"<IPython.core.display.HTML object>",
            "text/html":"<div class=\"progress-ipython-shell\"></div>"
          },
          "metadata":{

          }
        },
        {
          "name":"stdout",
          "text":"Java ref type org.apache.spark.sql.SparkSession id 1 ",
          "output_type":"stream"
        }
      ]
    },
    {
      "cell_type":"markdown",
      "source":"### Step 2: Read data into a R Dataframe",
      "metadata":{

      }
    },
    {
      "cell_type":"code",
      "source":"data <- read.csv(url(\"https://raw.githubusercontent.com/curran/data/gh-pages/Rdatasets/csv/COUNT/azpro.csv\"))\ndf <- as.DataFrame(data)",
      "metadata":{
        "trusted":true
      },
      "execution_count":15,
      "outputs":[
        {
          "output_type":"display_data",
          "data":{
            "text/plain":"<IPython.core.display.HTML object>",
            "text/html":"<div class=\"progress-ipython-shell\"></div>"
          },
          "metadata":{

          }
        }
      ]
    },
    {
      "cell_type":"markdown",
      "source":"### Step 3A: Schema of the Dataset",
      "metadata":{

      }
    },
    {
      "cell_type":"code",
      "source":"printSchema(df)",
      "metadata":{
        "trusted":true
      },
      "execution_count":16,
      "outputs":[
        {
          "output_type":"display_data",
          "data":{
            "text/plain":"<IPython.core.display.HTML object>",
            "text/html":"<div class=\"progress-ipython-shell\"></div>"
          },
          "metadata":{

          }
        },
        {
          "name":"stdout",
          "text":"root\n |-- X: integer (nullable = true)\n |-- los: integer (nullable = true)\n |-- procedure: integer (nullable = true)\n |-- sex: integer (nullable = true)\n |-- age75: integer (nullable = true)\n |-- admit: integer (nullable = true)\n |-- hospital: double (nullable = true)",
          "output_type":"stream"
        }
      ]
    },
    {
      "cell_type":"markdown",
      "source":"### Step 3B: Sample of the Dataset",
      "metadata":{

      }
    },
    {
      "cell_type":"code",
      "source":"showDF(df)",
      "metadata":{
        "trusted":true
      },
      "execution_count":17,
      "outputs":[
        {
          "output_type":"display_data",
          "data":{
            "text/plain":"<IPython.core.display.HTML object>",
            "text/html":"<div class=\"progress-ipython-shell\"></div>"
          },
          "metadata":{

          }
        },
        {
          "name":"stdout",
          "text":"+---+---+---------+---+-----+-----+----------------+\n|  X|los|procedure|sex|age75|admit|        hospital|\n+---+---+---------+---+-----+-----+----------------+\n|  1| 67|        1|  0|    0|    1|3.60000014305115|\n|  2| 53|        0|  0|    0|    1|6.70000028610229|\n|  3| 51|        1|  0|    0|    0|             2.5|\n|  4| 30|        0|  0|    0|    1|             6.5|\n|  5| 43|        1|  0|    0|    0|3.70000004768372|\n|  6| 43|        1|  0|    0|    0|4.30000019073486|\n|  7| 32|        0|  0|    0|    1|             6.5|\n|  8| 47|        1|  0|    1|    1|5.19999980926514|\n|  9| 50|        1|  0|    1|    1|3.70000004768372|\n| 10| 37|        1|  0|    0|    1|4.30000019073486|\n| 11| 32|        1|  0|    0|    0|3.60000014305115|\n| 12| 42|        1|  0|    1|    1|5.19999980926514|\n| 13| 33|        1|  0|    0|    1|6.80000019073486|\n| 14| 28|        0|  0|    1|    1|2.40000009536743|\n| 15| 50|        1|  0|    1|    1|3.09999990463257|\n| 16| 17|        0|  0|    0|    1|             2.5|\n| 17| 22|        0|  0|    0|    1|3.09999990463257|\n| 18| 30|        1|  0|    0|    1|3.70000004768372|\n| 19| 30|        1|  0|    0|    0|             6.0|\n| 20| 25|        0|  0|    0|    1|6.80000019073486|\n+---+---+---------+---+-----+-----+----------------+\nonly showing top 20 rows",
          "output_type":"stream"
        }
      ]
    },
    {
      "cell_type":"markdown",
      "source":"### Step 4: Exploration-Count Total Records",
      "metadata":{

      }
    },
    {
      "cell_type":"code",
      "source":"count(df)",
      "metadata":{
        "trusted":true
      },
      "execution_count":18,
      "outputs":[
        {
          "output_type":"display_data",
          "data":{
            "text/plain":"<IPython.core.display.HTML object>",
            "text/html":"<div class=\"progress-ipython-shell\"></div>"
          },
          "metadata":{

          }
        },
        {
          "name":"stdout",
          "text":"[1] 3589",
          "output_type":"stream"
        }
      ]
    }
  ]
}
